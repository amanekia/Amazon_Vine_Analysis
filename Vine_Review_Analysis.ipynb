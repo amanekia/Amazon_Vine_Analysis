{
  "nbformat": 4,
  "nbformat_minor": 0,
  "metadata": {
    "colab": {
      "provenance": []
    },
    "kernelspec": {
      "name": "python3",
      "display_name": "Python 3"
    },
    "language_info": {
      "name": "python"
    }
  },
  "cells": [
    {
      "cell_type": "code",
      "execution_count": null,
      "metadata": {
        "id": "6U2s5y5zhIbt"
      },
      "outputs": [],
      "source": [
        "import os\n",
        "# Find the latest version of spark 3.2 from http://www.apache.org/dist/spark/ and enter as the spark version\n",
        "# For example:\n",
        "# spark_version = 'spark-3.2.3'\n",
        "spark_version = 'spark-3.2.3'\n",
        "os.environ['SPARK_VERSION']=spark_version\n",
        "\n",
        "# Install Spark and Java\n",
        "!apt-get update\n",
        "!apt-get install openjdk-11-jdk-headless -qq > /dev/null\n",
        "!wget -q http://www.apache.org/dist/spark/$SPARK_VERSION/$SPARK_VERSION-bin-hadoop2.7.tgz\n",
        "!tar xf $SPARK_VERSION-bin-hadoop2.7.tgz\n",
        "!pip install -q findspark\n",
        "\n",
        "# Set Environment Variables\n",
        "import os\n",
        "os.environ[\"JAVA_HOME\"] = \"/usr/lib/jvm/java-11-openjdk-amd64\"\n",
        "os.environ[\"SPARK_HOME\"] = f\"/content/{spark_version}-bin-hadoop2.7\"\n",
        "\n",
        "# Start a SparkSession\n",
        "import findspark\n",
        "findspark.init()"
      ]
    },
    {
      "cell_type": "code",
      "source": [
        "!pip install pyspark"
      ],
      "metadata": {
        "id": "9hlo1f59hpIQ"
      },
      "execution_count": null,
      "outputs": []
    },
    {
      "cell_type": "code",
      "source": [
        "# Download the Postgres driver that will allow Spark to interact with Postgres.\n",
        "!wget https://jdbc.postgresql.org/download/postgresql-42.2.16.jar"
      ],
      "metadata": {
        "id": "S0-I8kGCh-zQ"
      },
      "execution_count": null,
      "outputs": []
    },
    {
      "cell_type": "code",
      "source": [
        "from pyspark.sql import SparkSession\n",
        "spark = SparkSession.builder.appName(\"M17-Amazon-Challenge\").config(\"spark.driver.extraClassPath\",\"/content/postgresql-42.2.16.jar\").getOrCreate()"
      ],
      "metadata": {
        "id": "RwoR4IfgiBWU"
      },
      "execution_count": 4,
      "outputs": []
    },
    {
      "cell_type": "code",
      "source": [
        "from pyspark import SparkFiles\n",
        "url = \"https://s3.amazonaws.com/amazon-reviews-pds/tsv/amazon_reviews_us_Sports_v1_00.tsv.gz\"\n",
        "spark.sparkContext.addFile(url)\n",
        "df = spark.read.option(\"encoding\", \"UTF-8\").csv(SparkFiles.get(\"amazon_reviews_us_Sports_v1_00.tsv.gz\"), sep=\"\\t\", header=True, inferSchema=True)\n",
        "df.show()"
      ],
      "metadata": {
        "id": "GvSASUdYiNwd"
      },
      "execution_count": null,
      "outputs": []
    },
    {
      "cell_type": "code",
      "source": [
        "totalvotes_df = df.filter(\"total_votes>=20\")\n",
        "totalvotes_df.show()"
      ],
      "metadata": {
        "colab": {
          "base_uri": "https://localhost:8080/"
        },
        "id": "cg_bFVqiipUR",
        "outputId": "25dd87e1-3b6d-4719-f623-15f497ceaa9f"
      },
      "execution_count": 6,
      "outputs": [
        {
          "output_type": "stream",
          "name": "stdout",
          "text": [
            "+-----------+-----------+--------------+----------+--------------+--------------------+----------------+-----------+-------------+-----------+----+-----------------+--------------------+--------------------+-----------+\n",
            "|marketplace|customer_id|     review_id|product_id|product_parent|       product_title|product_category|star_rating|helpful_votes|total_votes|vine|verified_purchase|     review_headline|         review_body|review_date|\n",
            "+-----------+-----------+--------------+----------+--------------+--------------------+----------------+-----------+-------------+-----------+----+-----------------+--------------------+--------------------+-----------+\n",
            "|         US|   37480006|R1B4753QMTD8ON|B00U6AE4BK|     632231911|Maxpedition Chubb...|          Sports|          5|           32|         32|   N|                N|Maxpedition Organ...|As a preamble, ha...| 2015-08-31|\n",
            "|         US|   49868087|R28BVHOEL6GCHZ|B011CCGRX8|     403987913|5 Resistance Loop...|          Sports|          5|           21|         21|   N|                Y|Excellent for Phy...|I purchased these...| 2015-08-31|\n",
            "|         US|    8458598|R27IB4BRKO71I0|B0062Y9BLM|     875168903|Sentry Solutions ...|          Sports|          2|           16|         20|   N|                Y|        Just dont...|So i bought this ...| 2015-08-31|\n",
            "|         US|   23595483| RJ86OW12Y4NRL|B00HMDLAPC|     677548322|NIKE Mercurial Li...|          Sports|          5|          124|        128|   N|                Y|My Shins Exclaim:...|I highly recommen...| 2015-08-31|\n",
            "|         US|   42803974|R3KRABOWCH6ZE4|B003DQTJMI|     330329071|Mountain Man Beav...|          Sports|          1|           48|         65|   N|                Y|                WTF!|Dont get me wrong...| 2015-08-31|\n",
            "|         US|    4247498|R1OAKARA30DIWX|B00467H5YW|     440976014|Sunny Health & Fi...|          Sports|          4|           83|         89|   N|                Y|Good quality bike...|I have been spinn...| 2015-08-31|\n",
            "|         US|   25890930|R36LSV4WQ4VB1K|B010OMQSR2|     193862771|Rhino Tactical Gr...|          Sports|          5|           17|         22|   N|                N|Quality scope by ...|Though I do not o...| 2015-08-31|\n",
            "|         US|   15598507|R18BTOE5UGN7UA|B00VNYCZ78|     387735619|4007527 Desantis ...|          Sports|          5|           26|         28|   N|                Y|Weapon fits perfe...|Weapon fits perfe...| 2015-08-31|\n",
            "|         US|   37283673|R1DXLGDSK2WMLD|B00460IFPW|     200966622|Benjamin High Pre...|          Sports|          4|           22|         22|   N|                N|Don't Blame the P...|I have read many ...| 2015-08-31|\n",
            "|         US|     106776| RZG2OHQ12YYZI|B00DGE4BAW|      70810199|Nike Womens Pro C...|          Sports|          5|           30|         31|   N|                Y|      Very satisfied|I was sort worrie...| 2015-08-31|\n",
            "|         US|   48363662|R1ZPBQCT4DYE4Z|B00AU6EEVU|      13742267|Gamo 611009754 .1...|          Sports|          1|           45|         51|   N|                Y|Horrible Customer...|Horrible customer...| 2015-08-31|\n",
            "|         US|   15757589|R16KLPJUNC9GS7|B002ZUR0EW|     930729095|ASICS Ace Low Pro...|          Sports|          5|           20|         21|   N|                Y|My 13-year-old da...|My 13-year-old da...| 2015-08-31|\n",
            "|         US|   38169469|R3Q0414UJO4BDO|B000EZYT3K|     620569131|Century Original ...|          Sports|          1|           23|         28|   N|                Y|I have to reposit...|I've had this wav...| 2015-08-31|\n",
            "|         US|      94649| RDHDT1Z4R8IOF|B00HPQ22XK|     845220278|Vipertek VTS-195 ...|          Sports|          1|           18|         20|   N|                Y|Short-circuited o...|Short-circuited o...| 2015-08-31|\n",
            "|         US|   33069537|R10BO7KWZNBGL1|B00IK2U3C0|     339142563|Zumba Fitness Max...|          Sports|          4|           23|         24|   N|                Y|Very Fun -- Be Su...|You can see a qui...| 2015-08-31|\n",
            "|         US|   46178267|R1H6DQ1UXL6K8U|B00S0YA5GM|     341888516|Balaclava - Windp...|          Sports|          5|           86|         97|   N|                N|Longer Skull Cap,...|[[VIDEOID:65429b3...| 2015-08-31|\n",
            "|         US|   51238346|R32OMS1LSDRCOB|B0118XMTV0|     454318751|Slendertone Abs A...|          Sports|          4|           27|         31|   Y|                N|Fun and Potential...|I have heard some...| 2015-08-31|\n",
            "|         US|   27447817|R1ABJ5P5XAZ9AW|B00RGAPEMQ|     421395304|Diamond Archery I...|          Sports|          5|          174|        187|   N|                N|Easy to maintain ...|This is not a spe...| 2015-08-31|\n",
            "|         US|     107674|R2RRFZ2YFSJ2OF|B012E92P16|     955885072|Storm Warrior Dou...|          Sports|          5|           27|         27|   N|                Y|awesome money wel...|It works great wi...| 2015-08-31|\n",
            "|         US|   50641517|R19G3LWRFBHDX3|B010MEXZZU|      92869912|Brunswick Tzone D...|          Sports|          1|            4|         42|   N|                Y|            One Star|I can't find the ...| 2015-08-31|\n",
            "+-----------+-----------+--------------+----------+--------------+--------------------+----------------+-----------+-------------+-----------+----+-----------------+--------------------+--------------------+-----------+\n",
            "only showing top 20 rows\n",
            "\n"
          ]
        }
      ]
    },
    {
      "cell_type": "code",
      "source": [
        "helpfulvotes_df = totalvotes_df.filter(\"helpful_votes/total_votes<=.50\")\n",
        "helpfulvotes_df.show()"
      ],
      "metadata": {
        "colab": {
          "base_uri": "https://localhost:8080/"
        },
        "id": "1aDB2pvFjC_Z",
        "outputId": "c1f025a2-9331-4e6e-8e87-541d3f3040e3"
      },
      "execution_count": 7,
      "outputs": [
        {
          "output_type": "stream",
          "name": "stdout",
          "text": [
            "+-----------+-----------+--------------+----------+--------------+--------------------+----------------+-----------+-------------+-----------+----+-----------------+--------------------+--------------------+-----------+\n",
            "|marketplace|customer_id|     review_id|product_id|product_parent|       product_title|product_category|star_rating|helpful_votes|total_votes|vine|verified_purchase|     review_headline|         review_body|review_date|\n",
            "+-----------+-----------+--------------+----------+--------------+--------------------+----------------+-----------+-------------+-----------+----+-----------------+--------------------+--------------------+-----------+\n",
            "|         US|   50641517|R19G3LWRFBHDX3|B010MEXZZU|      92869912|Brunswick Tzone D...|          Sports|          1|            4|         42|   N|                Y|            One Star|I can't find the ...| 2015-08-31|\n",
            "|         US|    1155154| RNGLCHDY6TZZ7|B00Q2LJ4JE|     280867213|12-in-1 Bandana H...|          Sports|          1|           20|         41|   N|                N|Cheap imitation o...|This is not a Buf...| 2015-08-30|\n",
            "|         US|     127905|R1ZD5TKU8VTWJ5|B003X9WKOO|     826573381|Spyderco ParaMili...|          Sports|          1|            7|         27|   N|                Y|            One Star|              Fake..| 2015-08-30|\n",
            "|         US|   25120911| RH8USHJAWEOOV|B00S55JHYM|     427311310|Serious Steel Hea...|          Sports|          4|            0|         20|   N|                Y|     NEARLY PERFECT!|Got my Juicy Case...| 2015-08-29|\n",
            "|         US|   10901299|R375HO3RPDW7S5|B00JIED6QO|     405063476|Rock Solid Whole ...|          Sports|          1|           10|         22|   N|                Y|    Piece of garbage|Without a power l...| 2015-08-29|\n",
            "|         US|   14820815|R3VTX0QHL3C4CD|B00NKOTI7E|     256893985|XR 55 Home Exerci...|          Sports|          2|            3|         25|   N|                N|Dont waste your t...|175lb stack? Dont...| 2015-08-29|\n",
            "|         US|     687045|R20Q1PBT8MQ3GH|B008HV9EGK|     257149921|Body Beast DVD Wo...|          Sports|          1|           10|         21|   N|                Y|Fraudulent Advert...|I will not buy an...| 2015-08-29|\n",
            "|         US|   45292656| RAIFD0ZYY7IM9|B00T2R3X9C|     631010751|Raymarine a98 9-I...|          Sports|          1|            2|         21|   N|                Y|Everything else w...|The transom mount...| 2015-08-29|\n",
            "|         US|   49555650| ROIIDTTSFKTDQ|B003B9ZFO8|      21464479|Bushnell Green Ro...|          Sports|          1|            1|        106|   N|                N|            One Star|Trophy? Killing l...| 2015-08-29|\n",
            "|         US|   43161001|R2T6ROGBF8PAUV|B004NJ2ETY|     861094999|Buck Knives 113 R...|          Sports|          1|            7|         79|   N|                Y|The quality of th...|The quality of th...| 2015-08-28|\n",
            "|         US|   21053434|R22K75AXKXBM3A|B00RC9A660|     442386366|Blue Gill Sun Fis...|          Sports|          1|            4|         23|   N|                Y|I was thinking I ...|I was thinking I ...| 2015-08-28|\n",
            "|         US|   22218307|R1KHUEZIKNE70L|B00QZ1IMCQ|     616374280|Posture Corrector...|          Sports|          1|           14|         33|   N|                Y|                 Naw|Don't know if thi...| 2015-08-27|\n",
            "|         US|   12403363|R1GC5GTU0MBU3H|B00XAOHX8K|      98199491|Coyote Urine - 16oz.|          Sports|          5|           14|         43|   N|                N|          100% Pure!|Dude! This Coyote...| 2015-08-27|\n",
            "|         US|   32644875|R340DO1WO4H1Z3|B007GDR0I4|     648980759|Aimpoint PRO Patr...|          Sports|          2|            3|         20|   N|                Y|It could of have ...|It ain't all that...| 2015-08-27|\n",
            "|         US|   41237045|R1XNTU3CQD4V1M|B00NZ98OKG|     777491281|Sightmark Photon ...|          Sports|          3|            6|         22|   N|                Y|It's a good scope...|It's a good scope...| 2015-08-27|\n",
            "|         US|   44804067|R158R9FOI0WOCI|B013AP49XU|     315705388|Premium Waterproo...|          Sports|          1|            3|         57|   N|                Y|            One Star|Doesn't seal well...| 2015-08-27|\n",
            "|         US|     129996|R1I1PRQZ52I6H9|B00VWMKI52|     109045612|Red Laser with 20...|          Sports|          1|            0|         23|   N|                Y|            No Good!|No Good.. unless ...| 2015-08-27|\n",
            "|         US|    1942155|R2MPWJ0VLHV1JH|B000KKIT8U|     191210234|Ontario Knife 711...|          Sports|          1|            0|         20|   N|                Y|don't buyu this k...|wife put knife in...| 2015-08-27|\n",
            "|         US|    1551517| RLDQ9OVXDBERI|B00R70241Y|     855780628|Nike Mens AW77 FT...|          Sports|          1|            1|         25|   N|                Y|            One Star|                Good| 2015-08-26|\n",
            "|         US|   52909396|R3KHROTP2L05FJ|B00Z8KBEBQ|     205836280|Earth Pak -Waterp...|          Sports|          3|           16|         33|   N|                N|  Very disappointed.|*Update* After th...| 2015-08-26|\n",
            "+-----------+-----------+--------------+----------+--------------+--------------------+----------------+-----------+-------------+-----------+----+-----------------+--------------------+--------------------+-----------+\n",
            "only showing top 20 rows\n",
            "\n"
          ]
        }
      ]
    },
    {
      "cell_type": "code",
      "source": [
        "vinereview_df = helpfulvotes_df.filter(helpfulvotes_df[\"vine\"] == \"Y\")\n",
        "vinereview_df.show()"
      ],
      "metadata": {
        "colab": {
          "base_uri": "https://localhost:8080/"
        },
        "id": "I5SJGvvUjYWF",
        "outputId": "ab430704-ddab-45d5-ae29-5ae417d70020"
      },
      "execution_count": 8,
      "outputs": [
        {
          "output_type": "stream",
          "name": "stdout",
          "text": [
            "+-----------+-----------+--------------+----------+--------------+--------------------+----------------+-----------+-------------+-----------+----+-----------------+--------------------+--------------------+-----------+\n",
            "|marketplace|customer_id|     review_id|product_id|product_parent|       product_title|product_category|star_rating|helpful_votes|total_votes|vine|verified_purchase|     review_headline|         review_body|review_date|\n",
            "+-----------+-----------+--------------+----------+--------------+--------------------+----------------+-----------+-------------+-----------+----+-----------------+--------------------+--------------------+-----------+\n",
            "|         US|   51663540|R2P2AVI50P612D|B00VS36SN6|     689268241|Jillian Michaels ...|          Sports|          3|           10|         24|   Y|                N|For all out extre...|I was initially s...| 2015-05-09|\n",
            "|         US|   51847546| R1N4Z1GW39KVY|B004KOXDWE|     303436672|Rip 60 Fitness DV...|          Sports|          2|           14|         28|   Y|                N|Not for the Physi...|I'm afraid this r...| 2011-10-30|\n",
            "+-----------+-----------+--------------+----------+--------------+--------------------+----------------+-----------+-------------+-----------+----+-----------------+--------------------+--------------------+-----------+\n",
            "\n"
          ]
        }
      ]
    },
    {
      "cell_type": "code",
      "source": [
        "nonvinereview_df = helpfulvotes_df.filter(helpfulvotes_df[\"vine\"] == \"N\")\n",
        "nonvinereview_df.show()"
      ],
      "metadata": {
        "colab": {
          "base_uri": "https://localhost:8080/"
        },
        "id": "6vnh-rWJj0HW",
        "outputId": "f5df2882-f85e-4f09-af1f-561312586007"
      },
      "execution_count": 9,
      "outputs": [
        {
          "output_type": "stream",
          "name": "stdout",
          "text": [
            "+-----------+-----------+--------------+----------+--------------+--------------------+----------------+-----------+-------------+-----------+----+-----------------+--------------------+--------------------+-----------+\n",
            "|marketplace|customer_id|     review_id|product_id|product_parent|       product_title|product_category|star_rating|helpful_votes|total_votes|vine|verified_purchase|     review_headline|         review_body|review_date|\n",
            "+-----------+-----------+--------------+----------+--------------+--------------------+----------------+-----------+-------------+-----------+----+-----------------+--------------------+--------------------+-----------+\n",
            "|         US|   50641517|R19G3LWRFBHDX3|B010MEXZZU|      92869912|Brunswick Tzone D...|          Sports|          1|            4|         42|   N|                Y|            One Star|I can't find the ...| 2015-08-31|\n",
            "|         US|    1155154| RNGLCHDY6TZZ7|B00Q2LJ4JE|     280867213|12-in-1 Bandana H...|          Sports|          1|           20|         41|   N|                N|Cheap imitation o...|This is not a Buf...| 2015-08-30|\n",
            "|         US|     127905|R1ZD5TKU8VTWJ5|B003X9WKOO|     826573381|Spyderco ParaMili...|          Sports|          1|            7|         27|   N|                Y|            One Star|              Fake..| 2015-08-30|\n",
            "|         US|   25120911| RH8USHJAWEOOV|B00S55JHYM|     427311310|Serious Steel Hea...|          Sports|          4|            0|         20|   N|                Y|     NEARLY PERFECT!|Got my Juicy Case...| 2015-08-29|\n",
            "|         US|   10901299|R375HO3RPDW7S5|B00JIED6QO|     405063476|Rock Solid Whole ...|          Sports|          1|           10|         22|   N|                Y|    Piece of garbage|Without a power l...| 2015-08-29|\n",
            "|         US|   14820815|R3VTX0QHL3C4CD|B00NKOTI7E|     256893985|XR 55 Home Exerci...|          Sports|          2|            3|         25|   N|                N|Dont waste your t...|175lb stack? Dont...| 2015-08-29|\n",
            "|         US|     687045|R20Q1PBT8MQ3GH|B008HV9EGK|     257149921|Body Beast DVD Wo...|          Sports|          1|           10|         21|   N|                Y|Fraudulent Advert...|I will not buy an...| 2015-08-29|\n",
            "|         US|   45292656| RAIFD0ZYY7IM9|B00T2R3X9C|     631010751|Raymarine a98 9-I...|          Sports|          1|            2|         21|   N|                Y|Everything else w...|The transom mount...| 2015-08-29|\n",
            "|         US|   49555650| ROIIDTTSFKTDQ|B003B9ZFO8|      21464479|Bushnell Green Ro...|          Sports|          1|            1|        106|   N|                N|            One Star|Trophy? Killing l...| 2015-08-29|\n",
            "|         US|   43161001|R2T6ROGBF8PAUV|B004NJ2ETY|     861094999|Buck Knives 113 R...|          Sports|          1|            7|         79|   N|                Y|The quality of th...|The quality of th...| 2015-08-28|\n",
            "|         US|   21053434|R22K75AXKXBM3A|B00RC9A660|     442386366|Blue Gill Sun Fis...|          Sports|          1|            4|         23|   N|                Y|I was thinking I ...|I was thinking I ...| 2015-08-28|\n",
            "|         US|   22218307|R1KHUEZIKNE70L|B00QZ1IMCQ|     616374280|Posture Corrector...|          Sports|          1|           14|         33|   N|                Y|                 Naw|Don't know if thi...| 2015-08-27|\n",
            "|         US|   12403363|R1GC5GTU0MBU3H|B00XAOHX8K|      98199491|Coyote Urine - 16oz.|          Sports|          5|           14|         43|   N|                N|          100% Pure!|Dude! This Coyote...| 2015-08-27|\n",
            "|         US|   32644875|R340DO1WO4H1Z3|B007GDR0I4|     648980759|Aimpoint PRO Patr...|          Sports|          2|            3|         20|   N|                Y|It could of have ...|It ain't all that...| 2015-08-27|\n",
            "|         US|   41237045|R1XNTU3CQD4V1M|B00NZ98OKG|     777491281|Sightmark Photon ...|          Sports|          3|            6|         22|   N|                Y|It's a good scope...|It's a good scope...| 2015-08-27|\n",
            "|         US|   44804067|R158R9FOI0WOCI|B013AP49XU|     315705388|Premium Waterproo...|          Sports|          1|            3|         57|   N|                Y|            One Star|Doesn't seal well...| 2015-08-27|\n",
            "|         US|     129996|R1I1PRQZ52I6H9|B00VWMKI52|     109045612|Red Laser with 20...|          Sports|          1|            0|         23|   N|                Y|            No Good!|No Good.. unless ...| 2015-08-27|\n",
            "|         US|    1942155|R2MPWJ0VLHV1JH|B000KKIT8U|     191210234|Ontario Knife 711...|          Sports|          1|            0|         20|   N|                Y|don't buyu this k...|wife put knife in...| 2015-08-27|\n",
            "|         US|    1551517| RLDQ9OVXDBERI|B00R70241Y|     855780628|Nike Mens AW77 FT...|          Sports|          1|            1|         25|   N|                Y|            One Star|                Good| 2015-08-26|\n",
            "|         US|   52909396|R3KHROTP2L05FJ|B00Z8KBEBQ|     205836280|Earth Pak -Waterp...|          Sports|          3|           16|         33|   N|                N|  Very disappointed.|*Update* After th...| 2015-08-26|\n",
            "+-----------+-----------+--------------+----------+--------------+--------------------+----------------+-----------+-------------+-----------+----+-----------------+--------------------+--------------------+-----------+\n",
            "only showing top 20 rows\n",
            "\n"
          ]
        }
      ]
    },
    {
      "cell_type": "code",
      "source": [
        "from pyspark.sql.functions import count\n",
        "\n",
        "vine_count = vinereview_df.count()\n",
        "print(\"Total count of Paid Reviews: %f\" % vine_count)\n",
        "\n",
        "nonvine_count = nonvinereview_df.count()\n",
        "print(\"Total cound of NON-Paid Reviews: %f\" % nonvine_count)"
      ],
      "metadata": {
        "colab": {
          "base_uri": "https://localhost:8080/"
        },
        "id": "r-tNCqGfkIPg",
        "outputId": "ccbbb9d0-1091-43b4-8813-9d3f2bb9a19d"
      },
      "execution_count": 14,
      "outputs": [
        {
          "output_type": "stream",
          "name": "stdout",
          "text": [
            "Total count of Paid Reviews: 2.000000\n",
            "Total cound of NON-Paid Reviews: 6046.000000\n"
          ]
        }
      ]
    },
    {
      "cell_type": "code",
      "source": [
        "star5_vinereview = vinereview_df.filter(nonvinereview_df[\"star_rating\"] == \"5\")\n",
        "print(\"Total number of Paid 5 star reviews: %f \" % star5_vinereview.count())\n",
        "\n",
        "star5_nonvinereview = nonvinereview_df.filter(nonvinereview_df[\"star_rating\"] == \"5\")\n",
        "print(\"Total number of Non-Paid 5 star reviews: %f \" % star5_nonvinereview.count())"
      ],
      "metadata": {
        "colab": {
          "base_uri": "https://localhost:8080/"
        },
        "id": "jOxo2O5ynGwy",
        "outputId": "e0302dba-a25d-4df9-e609-4de0b5f00a1c"
      },
      "execution_count": 16,
      "outputs": [
        {
          "output_type": "stream",
          "name": "stdout",
          "text": [
            "Total number of Paid 5 star reviews: 0.000000 \n",
            "Total number of Non-Paid 5 star reviews: 690.000000 \n"
          ]
        }
      ]
    },
    {
      "cell_type": "code",
      "source": [
        "star5_vinepercent = (star5_vinereview.count()/vine_count)\n",
        "print(\"Percent of Paid 5 star reviews: %f\" % star5_vinepercent)\n",
        "\n",
        "star5_nonvinepercent = (star5_nonvinereview.count()/ nonvine_count)\n",
        "print(\"Percent of Non Paid 5 star reviews: %f\" % star5_nonvinepercent)\n"
      ],
      "metadata": {
        "colab": {
          "base_uri": "https://localhost:8080/"
        },
        "id": "WGkhE7Plojnl",
        "outputId": "e008f313-3445-4bd6-a15f-fbd815d4f9b7"
      },
      "execution_count": 17,
      "outputs": [
        {
          "output_type": "stream",
          "name": "stdout",
          "text": [
            "Percent of Paid 5 star reviews: 0.000000\n",
            "Percent of Non Paid 5 star reviews: 0.114125\n"
          ]
        }
      ]
    }
  ]
}